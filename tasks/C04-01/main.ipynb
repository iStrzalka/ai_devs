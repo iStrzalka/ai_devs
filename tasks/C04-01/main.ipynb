{
 "cells": [
  {
   "cell_type": "code",
   "execution_count": 20,
   "metadata": {},
   "outputs": [],
   "source": [
    "import sys\n",
    "\n",
    "sys.path.append(\"../..\")\n",
    "\n",
    "from common.aidevs_auth import send_answer, get_token_and_task\n",
    "from common.openai_auth import send_chat_completion, send_embeddings"
   ]
  },
  {
   "cell_type": "code",
   "execution_count": 25,
   "metadata": {},
   "outputs": [],
   "source": [
    "token, task = get_token_and_task('knowledge')"
   ]
  },
  {
   "cell_type": "code",
   "execution_count": 26,
   "metadata": {},
   "outputs": [
    {
     "data": {
      "text/plain": [
       "{'code': 0,\n",
       " 'msg': 'I will ask you a question about the exchange rate, the current population or general knowledge. Decide whether you will take your knowledge from external sources or from the knowledge of the model',\n",
       " 'question': 'ile orientacyjnie ludzi mieszka w Polsce?',\n",
       " 'database #1': 'Currency http://api.nbp.pl/en.html (use table A)',\n",
       " 'database #2': \"Knowledge about countries https://restcountries.com/ - field 'population'\"}"
      ]
     },
     "execution_count": 26,
     "metadata": {},
     "output_type": "execute_result"
    }
   ],
   "source": [
    "task"
   ]
  },
  {
   "cell_type": "code",
   "execution_count": 27,
   "metadata": {},
   "outputs": [
    {
     "data": {
      "text/plain": [
       "{'id': 'chatcmpl-8UOz32Fl2nj7iXQPI1hzlgZOpmx2n',\n",
       " 'object': 'chat.completion',\n",
       " 'created': 1702256569,\n",
       " 'model': 'gpt-4-0613',\n",
       " 'choices': [{'index': 0,\n",
       "   'message': {'role': 'assistant',\n",
       "    'content': '{\"category\": \"current population\", \"country\": \"Poland\"}'},\n",
       "   'finish_reason': 'stop'}],\n",
       " 'usage': {'prompt_tokens': 139, 'completion_tokens': 14, 'total_tokens': 153},\n",
       " 'system_fingerprint': None}"
      ]
     },
     "execution_count": 27,
     "metadata": {},
     "output_type": "execute_result"
    }
   ],
   "source": [
    "resp = send_chat_completion(\n",
    "    model_version=\"gpt-4\", \n",
    "    system_content=\"Be ultra concise, return only one of categories: exchange rate|current population|general knowledge. Return JSON response.\" + task['msg'] + \"\"\"###\n",
    "What is the capital city of Poland?\n",
    "{\"category\": \"general knowledge\"}\n",
    "What is the population of USA?\n",
    "{\"category\": \"current population\", \"country\": \"Czech Republic\"}\n",
    "Please provide current GBPPLN rate.\n",
    "{\"category\": \"exchange rate\", \"currency\": \"GBP\"}\"\"\",\n",
    "    user_content=task['question']\n",
    ")\n",
    "resp"
   ]
  },
  {
   "cell_type": "code",
   "execution_count": 28,
   "metadata": {},
   "outputs": [],
   "source": [
    "import json, requests\n",
    "\n",
    "classifications = json.loads(resp['choices'][0]['message']['content'])\n",
    "\n",
    "res = None\n",
    "if classifications['category'] == 'exchange rate':\n",
    "    res = str(json.loads(requests.get(\"https://api.nbp.pl/api/exchangerates/rates/a/{}/?format=json\".format(classifications['currency'])).text)[\"rates\"][0][\"mid\"])\n",
    "if classifications['category'] == 'current population':\n",
    "    res = json.loads(requests.get(f\"https://restcountries.com/v3.1/name/{classifications['country']}?fields=name,population\").text)[0]['population']\n",
    "if classifications['category'] == 'general knowledge':\n",
    "    res = send_chat_completion(\n",
    "        model_version=\"gpt-4\", \n",
    "        system_content=\"Be ultra concise and provide answer briefly\",\n",
    "        user_content=task['question']\n",
    "    )"
   ]
  },
  {
   "cell_type": "code",
   "execution_count": 29,
   "metadata": {},
   "outputs": [
    {
     "data": {
      "text/plain": [
       "37950802"
      ]
     },
     "execution_count": 29,
     "metadata": {},
     "output_type": "execute_result"
    }
   ],
   "source": [
    "res"
   ]
  },
  {
   "cell_type": "code",
   "execution_count": 30,
   "metadata": {},
   "outputs": [
    {
     "data": {
      "text/plain": [
       "'{\\n    \"code\": 0,\\n    \"msg\": \"OK\",\\n    \"note\": \"CORRECT\"\\n}'"
      ]
     },
     "execution_count": 30,
     "metadata": {},
     "output_type": "execute_result"
    }
   ],
   "source": [
    "send_answer(token, res)"
   ]
  }
 ],
 "metadata": {
  "kernelspec": {
   "display_name": "base",
   "language": "python",
   "name": "python3"
  },
  "language_info": {
   "codemirror_mode": {
    "name": "ipython",
    "version": 3
   },
   "file_extension": ".py",
   "mimetype": "text/x-python",
   "name": "python",
   "nbconvert_exporter": "python",
   "pygments_lexer": "ipython3",
   "version": "3.9.15"
  }
 },
 "nbformat": 4,
 "nbformat_minor": 2
}
