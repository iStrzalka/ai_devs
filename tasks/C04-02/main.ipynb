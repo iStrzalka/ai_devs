{
 "cells": [
  {
   "cell_type": "code",
   "execution_count": 6,
   "metadata": {},
   "outputs": [],
   "source": [
    "import sys\n",
    "\n",
    "sys.path.append(\"../..\")\n",
    "\n",
    "from common.openai_auth import send_chat_completion\n",
    "from common.aidevs_auth import get_token_and_task, send_answer"
   ]
  },
  {
   "cell_type": "code",
   "execution_count": 7,
   "metadata": {},
   "outputs": [
    {
     "data": {
      "text/plain": [
       "{'code': 0,\n",
       " 'msg': 'Decide whether the task should be added to the ToDo list or to the calendar (if time is provided) and return the corresponding JSON',\n",
       " 'hint': 'always use YYYY-MM-DD format for dates',\n",
       " 'example for ToDo': 'Przypomnij mi, że mam kupić mleko = {\"tool\":\"ToDo\",\"desc\":\"Kup mleko\" }',\n",
       " 'example for Calendar': 'Jutro mam spotkanie z Marianem = {\"tool\":\"Calendar\",\"desc\":\"Spotkanie z Marianem\",\"date\":\"2023-12-12\"}',\n",
       " 'question': 'Przypomnij mi, abym zapisał się na AI Devs 3.0'}"
      ]
     },
     "execution_count": 7,
     "metadata": {},
     "output_type": "execute_result"
    }
   ],
   "source": [
    "token, task = get_token_and_task('tools')\n",
    "task"
   ]
  },
  {
   "cell_type": "code",
   "execution_count": 8,
   "metadata": {},
   "outputs": [
    {
     "data": {
      "text/plain": [
       "{'tool': 'ToDo', 'desc': 'Zapisać się na AI Devs 3.0'}"
      ]
     },
     "execution_count": 8,
     "metadata": {},
     "output_type": "execute_result"
    }
   ],
   "source": [
    "system_content = \"\"\"Please classify the question \n",
    "\n",
    "### Rules\n",
    "- Do not answer the question, just classify it to one of the categories: ToDo|Calendar.\n",
    "- Calendar should always contain a date. Today is {today}\n",
    "- Be concise and return JSON response only and nothing else.\n",
    "\n",
    "### Templates\n",
    "ToDo: {{\"tool\": \"ToDo\", \"desc\": \"action to perform\"}}\n",
    "Calendar: {{\"tool\": \"ToDo\", \"desc\": \"meeting with XYZ\", \"date\": \"YYYY-MM-DD\"}}\n",
    "\n",
    "### Examples\n",
    "Przypomnij mi, ze mam kupic mleko\n",
    "- {{\"tool\": \"ToDo\", \"desc\": \"Kup mleko\"}}\n",
    "Jutro mam spotkanie z Marianem\n",
    "- {{\"tool\": \"Calendar\", \"desc\": \"Spotkanie z Marianem\", \"date\": \"2023-11-17\"}}\n",
    "\"\"\"\n",
    "\n",
    "import datetime\n",
    "resp = send_chat_completion(\n",
    "    model_version=\"gpt-3.5-turbo\",\n",
    "    system_content=system_content.format(today=datetime.date.today()),\n",
    "    user_content=task['question']\n",
    ")\n",
    "import json\n",
    "ai_resp = json.loads(resp['choices'][0]['message']['content'])\n",
    "ai_resp"
   ]
  },
  {
   "cell_type": "code",
   "execution_count": 9,
   "metadata": {},
   "outputs": [
    {
     "data": {
      "text/plain": [
       "'{\\n    \"code\": 0,\\n    \"msg\": \"OK\",\\n    \"note\": \"CORRECT\"\\n}'"
      ]
     },
     "execution_count": 9,
     "metadata": {},
     "output_type": "execute_result"
    }
   ],
   "source": [
    "send_answer(token, ai_resp)"
   ]
  }
 ],
 "metadata": {
  "kernelspec": {
   "display_name": "base",
   "language": "python",
   "name": "python3"
  },
  "language_info": {
   "codemirror_mode": {
    "name": "ipython",
    "version": 3
   },
   "file_extension": ".py",
   "mimetype": "text/x-python",
   "name": "python",
   "nbconvert_exporter": "python",
   "pygments_lexer": "ipython3",
   "version": "3.9.15"
  }
 },
 "nbformat": 4,
 "nbformat_minor": 2
}
