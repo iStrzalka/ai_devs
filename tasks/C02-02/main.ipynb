{
 "cells": [
  {
   "cell_type": "code",
   "execution_count": 28,
   "metadata": {},
   "outputs": [],
   "source": [
    "import sys\n",
    "\n",
    "sys.path.append('../..')\n",
    "\n",
    "from common.aidevs_auth import get_token_and_task, send_answer\n",
    "from common.openai_auth import send_chat_completion"
   ]
  },
  {
   "cell_type": "code",
   "execution_count": 29,
   "metadata": {},
   "outputs": [],
   "source": [
    "token, task = get_token_and_task('inprompt')"
   ]
  },
  {
   "cell_type": "code",
   "execution_count": 30,
   "metadata": {},
   "outputs": [],
   "source": [
    "ai_resp = send_chat_completion(\n",
    "    model_version='gpt-4',\n",
    "    system_content=\"I have knowledge of every possible name in the world especially names used in the bible, I return the answer in one word\",\n",
    "    user_content=f\"Provide the name from given sentence:\\n###{task['question']}\"\n",
    ")"
   ]
  },
  {
   "cell_type": "code",
   "execution_count": 31,
   "metadata": {},
   "outputs": [
    {
     "name": "stdout",
     "output_type": "stream",
     "text": [
      "Alojzy ma czarne oczy, krótkie włosy i pracuje jako prawnik, a na śniadanie najbardziej lubi jeść owsiankę\n"
     ]
    }
   ],
   "source": [
    "name = ai_resp[\"choices\"][0][\"message\"][\"content\"]\n",
    "\n",
    "known_fact = None\n",
    "for fact in task['input']:\n",
    "    if name in fact:\n",
    "        known_fact = fact\n",
    "        break\n",
    "print(known_fact)"
   ]
  },
  {
   "cell_type": "code",
   "execution_count": 32,
   "metadata": {},
   "outputs": [
    {
     "data": {
      "text/plain": [
       "'{\\n    \"code\": 0,\\n    \"msg\": \"OK\",\\n    \"note\": \"CORRECT\"\\n}'"
      ]
     },
     "execution_count": 32,
     "metadata": {},
     "output_type": "execute_result"
    }
   ],
   "source": [
    "ai_resp2 = send_chat_completion(\n",
    "    model_version='gpt-4',\n",
    "    system_content=known_fact,\n",
    "    user_content=task['question']\n",
    ")\n",
    "\n",
    "answer = ai_resp2[\"choices\"][0][\"message\"][\"content\"]\n",
    "\n",
    "send_answer(token, answer)"
   ]
  },
  {
   "cell_type": "code",
   "execution_count": null,
   "metadata": {},
   "outputs": [],
   "source": []
  }
 ],
 "metadata": {
  "kernelspec": {
   "display_name": "base",
   "language": "python",
   "name": "python3"
  },
  "language_info": {
   "codemirror_mode": {
    "name": "ipython",
    "version": 3
   },
   "file_extension": ".py",
   "mimetype": "text/x-python",
   "name": "python",
   "nbconvert_exporter": "python",
   "pygments_lexer": "ipython3",
   "version": "3.9.15"
  }
 },
 "nbformat": 4,
 "nbformat_minor": 2
}
