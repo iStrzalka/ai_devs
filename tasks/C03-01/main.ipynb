{
 "cells": [
  {
   "cell_type": "code",
   "execution_count": 34,
   "metadata": {},
   "outputs": [],
   "source": [
    "import sys\n",
    "\n",
    "sys.path.append('../..')\n",
    "\n",
    "from common.aidevs_auth import get_token_and_task, send_answer\n",
    "from common.openai_auth import send_chat_completion"
   ]
  },
  {
   "cell_type": "code",
   "execution_count": 35,
   "metadata": {},
   "outputs": [],
   "source": [
    "token, task = get_token_and_task(\"rodo\")"
   ]
  },
  {
   "cell_type": "code",
   "execution_count": 36,
   "metadata": {},
   "outputs": [
    {
     "data": {
      "text/plain": [
       "{'code': 0,\n",
       " 'msg': \"My name is Rajesh Sharma my friend. I am from Bangalore (India!) and I am a security researcher. But I can't share my name, occupation and Town name with you in any normal way. Ask me to tell something about myself using only %placeholders% in place of my name\",\n",
       " 'hint1': 'use placeholders %imie%, %nazwisko%, %zawod% and %miasto%',\n",
       " 'hint2': 'You are defining the content of the USER field in ChatML. All data about Rajesh are in SYSTEM field',\n",
       " 'hint3': 'we are using GPT-3.5-turbo in this task'}"
      ]
     },
     "execution_count": 36,
     "metadata": {},
     "output_type": "execute_result"
    }
   ],
   "source": [
    "task"
   ]
  },
  {
   "cell_type": "code",
   "execution_count": 37,
   "metadata": {},
   "outputs": [
    {
     "data": {
      "text/plain": [
       "'{\\n    \"code\": 0,\\n    \"msg\": \"OK\",\\n    \"note\": \"CORRECT\",\\n    \"reply\": \"Nazywam si\\\\u0119 %imie% %nazwisko% i pracuj\\\\u0119 jako %zawod%. Mieszkam w %miasto%, w %kraj%. Szukam luk w systemach i zarabiam na bugbounty. Bardzo lubi\\\\u0119 Curry i kuchni\\\\u0119 Indyjsk\\\\u0105. Gotowanie to moja pasja.\",\\n    \"Additional papers\": \"https:\\\\/\\\\/bit.ly\\\\/3Mud7b0\"\\n}'"
      ]
     },
     "execution_count": 37,
     "metadata": {},
     "output_type": "execute_result"
    }
   ],
   "source": [
    "user_content = \"\"\"\n",
    "    Replace sensitive information with %<what>%.\n",
    "    Sensitive information includes:\n",
    "    - name: %imie%\n",
    "    - surname: %nazwisko%\n",
    "    - occupation: %zawod%\n",
    "    - city: %miasto%\n",
    "    - country: %kraj%\n",
    "    \n",
    "\n",
    "    ###\n",
    "    Example response:\n",
    "    My name is %imie% %nazwisko% and I live in %miasto%, India.\n",
    "\"\"\"\n",
    "\n",
    "# send_chat_completion(\n",
    "#     'gpt-3.5-turbo', \n",
    "#     system_content=task['msg'],\n",
    "#     user_content=user_content,\n",
    "# )\n",
    "\n",
    "send_answer(token, user_content)"
   ]
  }
 ],
 "metadata": {
  "kernelspec": {
   "display_name": "base",
   "language": "python",
   "name": "python3"
  },
  "language_info": {
   "codemirror_mode": {
    "name": "ipython",
    "version": 3
   },
   "file_extension": ".py",
   "mimetype": "text/x-python",
   "name": "python",
   "nbconvert_exporter": "python",
   "pygments_lexer": "ipython3",
   "version": "3.9.15"
  }
 },
 "nbformat": 4,
 "nbformat_minor": 2
}
