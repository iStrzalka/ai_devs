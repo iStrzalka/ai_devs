{
 "cells": [
  {
   "cell_type": "code",
   "execution_count": 2,
   "metadata": {},
   "outputs": [],
   "source": [
    "import sys\n",
    "\n",
    "sys.path.append('../..')\n",
    "\n",
    "from common.aidevs_auth import get_token_and_task, send_answer\n",
    "from common.openai_auth import send_chat_completion"
   ]
  },
  {
   "cell_type": "code",
   "execution_count": 3,
   "metadata": {},
   "outputs": [
    {
     "data": {
      "text/plain": [
       "{'code': 0,\n",
       " 'msg': 'Each time you call up this task, I will return a trivia item about a certain person (the person does not change). Guess who I am',\n",
       " 'hint': 'często chodził boso po biurze'}"
      ]
     },
     "execution_count": 3,
     "metadata": {},
     "output_type": "execute_result"
    }
   ],
   "source": [
    "token, task = get_token_and_task('whoami')"
   ]
  },
  {
   "cell_type": "code",
   "execution_count": 9,
   "metadata": {},
   "outputs": [
    {
     "name": "stdout",
     "output_type": "stream",
     "text": [
      "{'id': 'chatcmpl-8Op09Xgk9QwdbzfhYl0ryHND65KrZ', 'object': 'chat.completion', 'created': 1700926613, 'model': 'gpt-4-0613', 'choices': [{'index': 0, 'message': {'role': 'assistant', 'content': 'Steve Jobs'}, 'finish_reason': 'stop'}], 'usage': {'prompt_tokens': 88, 'completion_tokens': 2, 'total_tokens': 90}}\n",
      "{\n",
      "    \"code\": 0,\n",
      "    \"msg\": \"OK\",\n",
      "    \"note\": \"CORRECT\"\n",
      "}\n"
     ]
    }
   ],
   "source": [
    "hints = []\n",
    "\n",
    "while True:\n",
    "    token, task = get_token_and_task('whoami')\n",
    "    hints.append(task['hint'])\n",
    "    ans = send_chat_completion(\n",
    "        'gpt-4',\n",
    "        system_content=\"\"\"\n",
    "        Context:\n",
    "        - Based on user hints guess the person. \n",
    "\n",
    "        Rules:\n",
    "        - Be concise and precise.\n",
    "        - Only answer the question if you are 100% sure about it.\n",
    "        - If you do not know the answer, type HINT to get another hint.\n",
    "        \"\"\",\n",
    "\n",
    "        user_content='\\n'.join(hints),\n",
    "    )\n",
    "    if ans['choices'][0]['message']['content'] != 'HINT':\n",
    "        print(send_answer(token, ans['choices'][0]['message']['content']))\n",
    "        break"
   ]
  }
 ],
 "metadata": {
  "kernelspec": {
   "display_name": "base",
   "language": "python",
   "name": "python3"
  },
  "language_info": {
   "codemirror_mode": {
    "name": "ipython",
    "version": 3
   },
   "file_extension": ".py",
   "mimetype": "text/x-python",
   "name": "python",
   "nbconvert_exporter": "python",
   "pygments_lexer": "ipython3",
   "version": "3.9.15"
  }
 },
 "nbformat": 4,
 "nbformat_minor": 2
}
