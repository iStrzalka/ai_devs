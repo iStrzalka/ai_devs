{
 "cells": [
  {
   "cell_type": "code",
   "execution_count": 22,
   "metadata": {},
   "outputs": [],
   "source": [
    "import sys\n",
    "\n",
    "sys.path.append(\"../..\")\n",
    "\n",
    "from common.aidevs_auth import get_token_and_task, send_answer\n",
    "from common.openai_auth import send_chat_completion"
   ]
  },
  {
   "cell_type": "code",
   "execution_count": 23,
   "metadata": {},
   "outputs": [],
   "source": [
    "token, task = get_token_and_task(\"blogger\")"
   ]
  },
  {
   "cell_type": "code",
   "execution_count": 24,
   "metadata": {},
   "outputs": [
    {
     "data": {
      "text/plain": [
       "{'code': 0,\n",
       " 'msg': 'please write blog post for the provided outline',\n",
       " 'blog': ['Wstęp: kilka słów na temat historii pizzy',\n",
       "  'Niezbędne składniki na pizzę',\n",
       "  'Robienie pizzy',\n",
       "  'Pieczenie pizzy w piekarniku']}"
      ]
     },
     "execution_count": 24,
     "metadata": {},
     "output_type": "execute_result"
    }
   ],
   "source": [
    "task"
   ]
  },
  {
   "cell_type": "code",
   "execution_count": 25,
   "metadata": {},
   "outputs": [],
   "source": [
    "response = send_chat_completion(\n",
    "    model_version=\"gpt-4\",\n",
    "    system_content=\"Provided the outline of a blog, extend the topic for each of them. Your answers should be in a JSON format with chapter titles as keys and chapter content as values.\",\n",
    "    user_content=\"\\n\".join(task['blog']),\n",
    "    temperature=.2,\n",
    ")"
   ]
  },
  {
   "cell_type": "code",
   "execution_count": 26,
   "metadata": {},
   "outputs": [],
   "source": [
    "import json\n",
    "\n",
    "ans = [f\"{key} : {value}\" for key, value in json.loads(response['choices'][0]['message']['content']).items()]"
   ]
  },
  {
   "cell_type": "code",
   "execution_count": 27,
   "metadata": {},
   "outputs": [
    {
     "data": {
      "text/plain": [
       "['Wstęp: kilka słów na temat historii pizzy : Początki pizzy sięgają starożytnych czasów, kiedy to mieszkańcy różnych kultur używali płaskiego chleba jako podstawy dla swoich posiłków. Jednak to Włosi, a dokładniej mieszkańcy Neapolu, przypisują sobie zaszczyt wynalezienia pizzy, jaką znamy dzisiaj. W XIX wieku, pizza stała się popularnym daniem wśród biednych mieszkańców miasta, którzy potrzebowali szybkiego i taniego posiłku. Z czasem, pizza zyskała popularność na całym świecie, stając się jednym z najbardziej rozpoznawalnych dań kuchni włoskiej.',\n",
       " 'Niezbędne składniki na pizzę : Podstawowe składniki na pizzę to ciasto, sos pomidorowy i ser. Ciasto na pizzę zazwyczaj składa się z mąki, wody, drożdży i soli. Sos pomidorowy można przyrządzić z pomidorów, czosnku, bazylii i oliwy z oliwek. Co do sera, najczęściej używany jest mozzarella, ale można eksperymentować z innymi rodzajami sera. Oczywiście, pizza to danie, które można dowolnie modyfikować, dodając różne składniki, takie jak warzywa, mięso, owoce morza czy zioła.',\n",
       " 'Robienie pizzy : Robienie pizzy zaczyna się od przygotowania ciasta. Po wymieszaniu składników, ciasto należy wyrobić i pozostawić do wyrośnięcia. Następnie, ciasto rozwałkowuje się na odpowiednią grubość i kształt. Po nałożeniu sosu pomidorowego, pizzę posypuje się serem i dowolnymi dodatkami. Wszystko zależy od preferencji i gustu.',\n",
       " 'Pieczenie pizzy w piekarniku : Pieczenie pizzy w piekarniku to ostatni etap przygotowania tego pysznego dania. Pizza powinna być pieczona w bardzo wysokiej temperaturze, aby ciasto było chrupiące, a ser dobrze się roztopił. Czas pieczenia zależy od wielu czynników, takich jak grubość ciasta, ilość dodatków czy moc piekarnika, ale zazwyczaj wynosi od 10 do 15 minut. Po wyjęciu z piekarnika, pizzę można posypać świeżymi ziołami dla dodatkowego smaku i aromatu.']"
      ]
     },
     "execution_count": 27,
     "metadata": {},
     "output_type": "execute_result"
    }
   ],
   "source": [
    "ans"
   ]
  },
  {
   "cell_type": "code",
   "execution_count": 28,
   "metadata": {},
   "outputs": [
    {
     "data": {
      "text/plain": [
       "'{\\n    \"code\": 0,\\n    \"msg\": \"OK\",\\n    \"note\": \"CORRECT\"\\n}'"
      ]
     },
     "execution_count": 28,
     "metadata": {},
     "output_type": "execute_result"
    }
   ],
   "source": [
    "send_answer(token, ans)"
   ]
  }
 ],
 "metadata": {
  "kernelspec": {
   "display_name": "base",
   "language": "python",
   "name": "python3"
  },
  "language_info": {
   "codemirror_mode": {
    "name": "ipython",
    "version": 3
   },
   "file_extension": ".py",
   "mimetype": "text/x-python",
   "name": "python",
   "nbconvert_exporter": "python",
   "pygments_lexer": "ipython3",
   "version": "3.9.15"
  }
 },
 "nbformat": 4,
 "nbformat_minor": 2
}
