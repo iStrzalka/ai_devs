{
 "cells": [
  {
   "cell_type": "code",
   "execution_count": 15,
   "metadata": {},
   "outputs": [],
   "source": [
    "import sys\n",
    "\n",
    "sys.path.append(\"../..\")\n",
    "\n",
    "from common.aidevs_auth import get_token_and_task, send_answer\n",
    "from common.openai_auth import make_request"
   ]
  },
  {
   "cell_type": "code",
   "execution_count": 16,
   "metadata": {},
   "outputs": [],
   "source": [
    "token, task = get_token_and_task(\"moderation\")"
   ]
  },
  {
   "cell_type": "code",
   "execution_count": 17,
   "metadata": {},
   "outputs": [
    {
     "data": {
      "text/plain": [
       "{'code': 0,\n",
       " 'msg': 'please return 0/1 for each sentence to classify if this is content that requires moderation',\n",
       " 'input': ['Sasha.Grey.s3x.p0rn.extreme-interracial.S03E12.DVDRip.mp4',\n",
       "  'azjaci są głupi i brzydcy i nie powinni żyć',\n",
       "  'majonez Winiary jest lepszy od Kieleckiego',\n",
       "  'ten gość musi zginąć. Nie pozwole sobię na obrażanie mnie.']}"
      ]
     },
     "execution_count": 17,
     "metadata": {},
     "output_type": "execute_result"
    }
   ],
   "source": [
    "task"
   ]
  },
  {
   "cell_type": "code",
   "execution_count": 18,
   "metadata": {},
   "outputs": [],
   "source": [
    "results = []\n",
    "for message in task[\"input\"]:\n",
    "    response = make_request(endpoint=\"moderations\", data={\"input\": message})\n",
    "    results.append(response)"
   ]
  },
  {
   "cell_type": "code",
   "execution_count": 19,
   "metadata": {},
   "outputs": [
    {
     "data": {
      "text/plain": [
       "[{'id': 'modr-8KU4qZSHtOsW4ywizUamjNatNj2ty',\n",
       "  'model': 'text-moderation-006',\n",
       "  'results': [{'flagged': True,\n",
       "    'categories': {'sexual': True,\n",
       "     'hate': False,\n",
       "     'harassment': False,\n",
       "     'self-harm': False,\n",
       "     'sexual/minors': False,\n",
       "     'hate/threatening': False,\n",
       "     'violence/graphic': False,\n",
       "     'self-harm/intent': False,\n",
       "     'self-harm/instructions': False,\n",
       "     'harassment/threatening': False,\n",
       "     'violence': False},\n",
       "    'category_scores': {'sexual': 0.9895071387290955,\n",
       "     'hate': 2.1713709429604933e-05,\n",
       "     'harassment': 0.0004233995277900249,\n",
       "     'self-harm': 4.2453262949493364e-07,\n",
       "     'sexual/minors': 0.0020898100920021534,\n",
       "     'hate/threatening': 7.081283683874062e-07,\n",
       "     'violence/graphic': 3.2159350666916e-05,\n",
       "     'self-harm/intent': 1.768205720509286e-06,\n",
       "     'self-harm/instructions': 3.859100274894445e-07,\n",
       "     'harassment/threatening': 2.193237560277339e-05,\n",
       "     'violence': 0.0014216770650818944}}]},\n",
       " {'id': 'modr-8KU4rm37gMufh3diQS7N2uyh1V1kr',\n",
       "  'model': 'text-moderation-006',\n",
       "  'results': [{'flagged': True,\n",
       "    'categories': {'sexual': False,\n",
       "     'hate': True,\n",
       "     'harassment': True,\n",
       "     'self-harm': False,\n",
       "     'sexual/minors': False,\n",
       "     'hate/threatening': False,\n",
       "     'violence/graphic': False,\n",
       "     'self-harm/intent': False,\n",
       "     'self-harm/instructions': False,\n",
       "     'harassment/threatening': False,\n",
       "     'violence': False},\n",
       "    'category_scores': {'sexual': 5.837239768879954e-06,\n",
       "     'hate': 0.9251360297203064,\n",
       "     'harassment': 0.999457061290741,\n",
       "     'self-harm': 7.12094915797934e-05,\n",
       "     'sexual/minors': 3.2558268969751225e-08,\n",
       "     'hate/threatening': 4.39922914665658e-05,\n",
       "     'violence/graphic': 1.6655571366541722e-09,\n",
       "     'self-harm/intent': 1.7596465795577387e-06,\n",
       "     'self-harm/instructions': 1.3406888683675788e-05,\n",
       "     'harassment/threatening': 0.022647636011242867,\n",
       "     'violence': 0.006595714949071407}}]},\n",
       " {'id': 'modr-8KU4svA9VLEcbEvmRwzhyYEzaCIpH',\n",
       "  'model': 'text-moderation-006',\n",
       "  'results': [{'flagged': False,\n",
       "    'categories': {'sexual': False,\n",
       "     'hate': False,\n",
       "     'harassment': False,\n",
       "     'self-harm': False,\n",
       "     'sexual/minors': False,\n",
       "     'hate/threatening': False,\n",
       "     'violence/graphic': False,\n",
       "     'self-harm/intent': False,\n",
       "     'self-harm/instructions': False,\n",
       "     'harassment/threatening': False,\n",
       "     'violence': False},\n",
       "    'category_scores': {'sexual': 5.5126743973232806e-05,\n",
       "     'hate': 1.8778970343191759e-06,\n",
       "     'harassment': 0.0001316556299570948,\n",
       "     'self-harm': 2.2407152755477e-07,\n",
       "     'sexual/minors': 2.43384903342303e-07,\n",
       "     'hate/threatening': 2.5200174036399403e-07,\n",
       "     'violence/graphic': 7.13548752173665e-06,\n",
       "     'self-harm/intent': 1.0016069751372925e-08,\n",
       "     'self-harm/instructions': 1.0262829697182951e-08,\n",
       "     'harassment/threatening': 2.029561301242211e-06,\n",
       "     'violence': 2.6590365450829268e-05}}]},\n",
       " {'id': 'modr-8KU4soTwYpUOHMgjVlZQlMOrVVRwH',\n",
       "  'model': 'text-moderation-006',\n",
       "  'results': [{'flagged': True,\n",
       "    'categories': {'sexual': False,\n",
       "     'hate': True,\n",
       "     'harassment': False,\n",
       "     'self-harm': False,\n",
       "     'sexual/minors': False,\n",
       "     'hate/threatening': False,\n",
       "     'violence/graphic': False,\n",
       "     'self-harm/intent': False,\n",
       "     'self-harm/instructions': False,\n",
       "     'harassment/threatening': False,\n",
       "     'violence': True},\n",
       "    'category_scores': {'sexual': 0.0037539314944297075,\n",
       "     'hate': 0.45827633142471313,\n",
       "     'harassment': 0.3333873450756073,\n",
       "     'self-harm': 0.0023748676758259535,\n",
       "     'sexual/minors': 0.0007808841182850301,\n",
       "     'hate/threatening': 0.07871546596288681,\n",
       "     'violence/graphic': 1.1011680726369377e-05,\n",
       "     'self-harm/intent': 0.00046553448191843927,\n",
       "     'self-harm/instructions': 5.619742751150625e-06,\n",
       "     'harassment/threatening': 0.21198652684688568,\n",
       "     'violence': 0.9239293932914734}}]}]"
      ]
     },
     "execution_count": 19,
     "metadata": {},
     "output_type": "execute_result"
    }
   ],
   "source": [
    "results"
   ]
  },
  {
   "cell_type": "code",
   "execution_count": 20,
   "metadata": {},
   "outputs": [],
   "source": [
    "need_moderation = [int(result['results'][0]['flagged']) for result in results]"
   ]
  },
  {
   "cell_type": "code",
   "execution_count": 21,
   "metadata": {},
   "outputs": [
    {
     "data": {
      "text/plain": [
       "'{\\n    \"code\": 0,\\n    \"msg\": \"OK\",\\n    \"note\": \"CORRECT\"\\n}'"
      ]
     },
     "execution_count": 21,
     "metadata": {},
     "output_type": "execute_result"
    }
   ],
   "source": [
    "send_answer(token, need_moderation)"
   ]
  }
 ],
 "metadata": {
  "kernelspec": {
   "display_name": "base",
   "language": "python",
   "name": "python3"
  },
  "language_info": {
   "codemirror_mode": {
    "name": "ipython",
    "version": 3
   },
   "file_extension": ".py",
   "mimetype": "text/x-python",
   "name": "python",
   "nbconvert_exporter": "python",
   "pygments_lexer": "ipython3",
   "version": "3.9.15"
  }
 },
 "nbformat": 4,
 "nbformat_minor": 2
}
