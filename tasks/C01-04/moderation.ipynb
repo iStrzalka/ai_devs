{
 "cells": [
  {
   "cell_type": "code",
   "execution_count": null,
   "metadata": {},
   "outputs": [],
   "source": [
    "import sys\n",
    "\n",
    "sys.path.append(\"../..\")\n",
    "\n",
    "from common.aidevs_auth import get_token_and_task, send_answer\n",
    "from common.openai_auth import send_moderations"
   ]
  }
 ],
 "metadata": {
  "language_info": {
   "name": "python"
  }
 },
 "nbformat": 4,
 "nbformat_minor": 2
}
